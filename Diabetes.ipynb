{
  "nbformat": 4,
  "nbformat_minor": 0,
  "metadata": {
    "colab": {
      "name": "Diabetes.ipynb",
      "provenance": [],
      "collapsed_sections": [],
      "authorship_tag": "ABX9TyPssNhW6aO1jb4qwBmZxxI4",
      "include_colab_link": true
    },
    "kernelspec": {
      "name": "python3",
      "display_name": "Python 3"
    }
  },
  "cells": [
    {
      "cell_type": "markdown",
      "metadata": {
        "id": "view-in-github",
        "colab_type": "text"
      },
      "source": [
        "<a href=\"https://colab.research.google.com/github/mefy-Aruna/DiabetesApp/blob/main/Diabetes.ipynb\" target=\"_parent\"><img src=\"https://colab.research.google.com/assets/colab-badge.svg\" alt=\"Open In Colab\"/></a>"
      ]
    },
    {
      "cell_type": "code",
      "metadata": {
        "id": "TZGMWWGq-yjI"
      },
      "source": [
        "import pandas as pd\n",
        "# import libraries\n",
        "import numpy as np\n",
        "import pandas as pd\n",
        "import matplotlib.pyplot as plt\n",
        "import seaborn as sns\n",
        "from fancyimpute import IterativeImputer\n",
        "import lightgbm as lgb\n",
        "from sklearn.model_selection import train_test_split\n",
        "\n",
        "from sklearn.ensemble import RandomForestClassifier, AdaBoostClassifier\n",
        "\n",
        "from sklearn.metrics import classification_report, confusion_matrix, accuracy_score\n",
        "from sklearn.linear_model import LinearRegression \n",
        "from sklearn.linear_model import LogisticRegression\n",
        "\n"
      ],
      "execution_count": 19,
      "outputs": []
    },
    {
      "cell_type": "code",
      "metadata": {
        "id": "eyx6Xk6F_YAa"
      },
      "source": [
        "data = pd.read_csv(r'miceDataset.csv')"
      ],
      "execution_count": 45,
      "outputs": []
    },
    {
      "cell_type": "code",
      "metadata": {
        "id": "eSyhzuKlBaLH",
        "outputId": "13171eae-52d9-4b48-cdfd-33407c0d52ca",
        "colab": {
          "base_uri": "https://localhost:8080/",
          "height": 437
        }
      },
      "source": [
        "data"
      ],
      "execution_count": 46,
      "outputs": [
        {
          "output_type": "execute_result",
          "data": {
            "text/html": [
              "<div>\n",
              "<style scoped>\n",
              "    .dataframe tbody tr th:only-of-type {\n",
              "        vertical-align: middle;\n",
              "    }\n",
              "\n",
              "    .dataframe tbody tr th {\n",
              "        vertical-align: top;\n",
              "    }\n",
              "\n",
              "    .dataframe thead th {\n",
              "        text-align: right;\n",
              "    }\n",
              "</style>\n",
              "<table border=\"1\" class=\"dataframe\">\n",
              "  <thead>\n",
              "    <tr style=\"text-align: right;\">\n",
              "      <th></th>\n",
              "      <th>gender</th>\n",
              "      <th>age</th>\n",
              "      <th>bmi</th>\n",
              "      <th>waist_cm</th>\n",
              "      <th>sys_bp</th>\n",
              "      <th>dia_bp</th>\n",
              "      <th>alb_cr_ratio</th>\n",
              "      <th>t_chol</th>\n",
              "      <th>glucose</th>\n",
              "      <th>trigs</th>\n",
              "      <th>a1c</th>\n",
              "      <th>glucose.1</th>\n",
              "      <th>Diabetes</th>\n",
              "    </tr>\n",
              "  </thead>\n",
              "  <tbody>\n",
              "    <tr>\n",
              "      <th>0</th>\n",
              "      <td>1</td>\n",
              "      <td>21</td>\n",
              "      <td>18.2</td>\n",
              "      <td>82.000000</td>\n",
              "      <td>96.000000</td>\n",
              "      <td>50.00000</td>\n",
              "      <td>11.77</td>\n",
              "      <td>118.000000</td>\n",
              "      <td>82.000000</td>\n",
              "      <td>54.000000</td>\n",
              "      <td>5.0</td>\n",
              "      <td>88.000000</td>\n",
              "      <td>0.0</td>\n",
              "    </tr>\n",
              "    <tr>\n",
              "      <th>1</th>\n",
              "      <td>0</td>\n",
              "      <td>21</td>\n",
              "      <td>25.9</td>\n",
              "      <td>93.700000</td>\n",
              "      <td>110.000000</td>\n",
              "      <td>60.00000</td>\n",
              "      <td>2.37</td>\n",
              "      <td>172.000000</td>\n",
              "      <td>81.000000</td>\n",
              "      <td>83.000000</td>\n",
              "      <td>5.2</td>\n",
              "      <td>88.000000</td>\n",
              "      <td>0.0</td>\n",
              "    </tr>\n",
              "    <tr>\n",
              "      <th>2</th>\n",
              "      <td>0</td>\n",
              "      <td>21</td>\n",
              "      <td>29.5</td>\n",
              "      <td>102.300000</td>\n",
              "      <td>114.000000</td>\n",
              "      <td>72.00000</td>\n",
              "      <td>3.73</td>\n",
              "      <td>168.000000</td>\n",
              "      <td>87.000000</td>\n",
              "      <td>256.000000</td>\n",
              "      <td>5.1</td>\n",
              "      <td>94.160745</td>\n",
              "      <td>0.0</td>\n",
              "    </tr>\n",
              "    <tr>\n",
              "      <th>3</th>\n",
              "      <td>0</td>\n",
              "      <td>21</td>\n",
              "      <td>17.9</td>\n",
              "      <td>69.100000</td>\n",
              "      <td>108.000000</td>\n",
              "      <td>62.00000</td>\n",
              "      <td>3.74</td>\n",
              "      <td>144.000000</td>\n",
              "      <td>91.000000</td>\n",
              "      <td>57.000000</td>\n",
              "      <td>5.1</td>\n",
              "      <td>95.000000</td>\n",
              "      <td>0.0</td>\n",
              "    </tr>\n",
              "    <tr>\n",
              "      <th>4</th>\n",
              "      <td>0</td>\n",
              "      <td>21</td>\n",
              "      <td>30.6</td>\n",
              "      <td>101.600000</td>\n",
              "      <td>134.000000</td>\n",
              "      <td>64.00000</td>\n",
              "      <td>3.13</td>\n",
              "      <td>104.000000</td>\n",
              "      <td>89.000000</td>\n",
              "      <td>70.000000</td>\n",
              "      <td>6.0</td>\n",
              "      <td>95.000000</td>\n",
              "      <td>0.0</td>\n",
              "    </tr>\n",
              "    <tr>\n",
              "      <th>...</th>\n",
              "      <td>...</td>\n",
              "      <td>...</td>\n",
              "      <td>...</td>\n",
              "      <td>...</td>\n",
              "      <td>...</td>\n",
              "      <td>...</td>\n",
              "      <td>...</td>\n",
              "      <td>...</td>\n",
              "      <td>...</td>\n",
              "      <td>...</td>\n",
              "      <td>...</td>\n",
              "      <td>...</td>\n",
              "      <td>...</td>\n",
              "    </tr>\n",
              "    <tr>\n",
              "      <th>5201</th>\n",
              "      <td>0</td>\n",
              "      <td>77</td>\n",
              "      <td>32.8</td>\n",
              "      <td>115.900000</td>\n",
              "      <td>130.000000</td>\n",
              "      <td>64.00000</td>\n",
              "      <td>11.43</td>\n",
              "      <td>171.000000</td>\n",
              "      <td>126.000000</td>\n",
              "      <td>130.000000</td>\n",
              "      <td>6.5</td>\n",
              "      <td>134.000000</td>\n",
              "      <td>1.0</td>\n",
              "    </tr>\n",
              "    <tr>\n",
              "      <th>5202</th>\n",
              "      <td>0</td>\n",
              "      <td>77</td>\n",
              "      <td>32.9</td>\n",
              "      <td>122.200000</td>\n",
              "      <td>140.666578</td>\n",
              "      <td>76.05274</td>\n",
              "      <td>1375.00</td>\n",
              "      <td>207.939424</td>\n",
              "      <td>91.927995</td>\n",
              "      <td>205.687652</td>\n",
              "      <td>6.2</td>\n",
              "      <td>98.000000</td>\n",
              "      <td>0.0</td>\n",
              "    </tr>\n",
              "    <tr>\n",
              "      <th>5203</th>\n",
              "      <td>0</td>\n",
              "      <td>77</td>\n",
              "      <td>39.2</td>\n",
              "      <td>128.090281</td>\n",
              "      <td>136.000000</td>\n",
              "      <td>62.00000</td>\n",
              "      <td>33.20</td>\n",
              "      <td>197.000000</td>\n",
              "      <td>101.000000</td>\n",
              "      <td>169.000000</td>\n",
              "      <td>6.3</td>\n",
              "      <td>106.720790</td>\n",
              "      <td>1.0</td>\n",
              "    </tr>\n",
              "    <tr>\n",
              "      <th>5204</th>\n",
              "      <td>1</td>\n",
              "      <td>77</td>\n",
              "      <td>36.5</td>\n",
              "      <td>119.500000</td>\n",
              "      <td>128.000000</td>\n",
              "      <td>74.00000</td>\n",
              "      <td>3.92</td>\n",
              "      <td>181.000000</td>\n",
              "      <td>103.000000</td>\n",
              "      <td>67.000000</td>\n",
              "      <td>6.2</td>\n",
              "      <td>103.000000</td>\n",
              "      <td>0.0</td>\n",
              "    </tr>\n",
              "    <tr>\n",
              "      <th>5205</th>\n",
              "      <td>1</td>\n",
              "      <td>77</td>\n",
              "      <td>34.8</td>\n",
              "      <td>104.700000</td>\n",
              "      <td>150.000000</td>\n",
              "      <td>78.00000</td>\n",
              "      <td>4.16</td>\n",
              "      <td>223.000000</td>\n",
              "      <td>93.000000</td>\n",
              "      <td>117.000000</td>\n",
              "      <td>5.7</td>\n",
              "      <td>96.866305</td>\n",
              "      <td>1.0</td>\n",
              "    </tr>\n",
              "  </tbody>\n",
              "</table>\n",
              "<p>5206 rows × 13 columns</p>\n",
              "</div>"
            ],
            "text/plain": [
              "      gender  age   bmi    waist_cm  ...       trigs  a1c   glucose.1  Diabetes \n",
              "0          1   21  18.2   82.000000  ...   54.000000  5.0   88.000000        0.0\n",
              "1          0   21  25.9   93.700000  ...   83.000000  5.2   88.000000        0.0\n",
              "2          0   21  29.5  102.300000  ...  256.000000  5.1   94.160745        0.0\n",
              "3          0   21  17.9   69.100000  ...   57.000000  5.1   95.000000        0.0\n",
              "4          0   21  30.6  101.600000  ...   70.000000  6.0   95.000000        0.0\n",
              "...      ...  ...   ...         ...  ...         ...  ...         ...        ...\n",
              "5201       0   77  32.8  115.900000  ...  130.000000  6.5  134.000000        1.0\n",
              "5202       0   77  32.9  122.200000  ...  205.687652  6.2   98.000000        0.0\n",
              "5203       0   77  39.2  128.090281  ...  169.000000  6.3  106.720790        1.0\n",
              "5204       1   77  36.5  119.500000  ...   67.000000  6.2  103.000000        0.0\n",
              "5205       1   77  34.8  104.700000  ...  117.000000  5.7   96.866305        1.0\n",
              "\n",
              "[5206 rows x 13 columns]"
            ]
          },
          "metadata": {
            "tags": []
          },
          "execution_count": 46
        }
      ]
    },
    {
      "cell_type": "code",
      "metadata": {
        "id": "nwC-WHcEBc11",
        "outputId": "bdf3f7a5-71e3-4946-a8b7-4af0f318baf7",
        "colab": {
          "base_uri": "https://localhost:8080/",
          "height": 34
        }
      },
      "source": [
        "x = data.iloc[:, 0:12].values\n",
        "y = data.iloc[:, 12].values\n",
        "x\n",
        "y"
      ],
      "execution_count": 47,
      "outputs": [
        {
          "output_type": "execute_result",
          "data": {
            "text/plain": [
              "array([0., 0., 0., ..., 1., 0., 1.])"
            ]
          },
          "metadata": {
            "tags": []
          },
          "execution_count": 47
        }
      ]
    },
    {
      "cell_type": "code",
      "metadata": {
        "id": "Hr7KcWXPBfj8"
      },
      "source": [
        "ynew=[]\n"
      ],
      "execution_count": 36,
      "outputs": []
    },
    {
      "cell_type": "code",
      "metadata": {
        "id": "gWBrjzhsBguT"
      },
      "source": [
        "for i in y:\n",
        "  if i>0.7:\n",
        "    add=1\n",
        "    ynew.append(add)\n",
        "  elif i<0.7:\n",
        "    add=0\n",
        "    ynew.append(add)\n",
        "\n",
        "\n"
      ],
      "execution_count": 37,
      "outputs": []
    },
    {
      "cell_type": "code",
      "metadata": {
        "id": "F2js25A8BiA7"
      },
      "source": [
        "data['Glucose_Output'] = data['glucose'].apply(lambda x: 'diabetes' if x > 125 else 'prediabetes' if x > 99 and x <= 125 else 'normal' if x > 70 else 'diabetes')\n",
        "data.head()\n",
        "  \n",
        "#normal=0, prediabetes=2, diabetes=1\n",
        "data['Glucose_Output'] = data['Glucose_Output'].replace(['normal','prediabetes', 'diabetes'],[0,2,1])\n",
        "data.head()\n",
        "data.to_csv('feature1.csv',index=False, header=True)"
      ],
      "execution_count": 17,
      "outputs": []
    },
    {
      "cell_type": "code",
      "metadata": {
        "id": "xxWjrQaTBo3M"
      },
      "source": [
        "data1 = pd.read_csv('feature1.csv')\n",
        "data1.head()\n",
        "data1 = data1[['glucose','Glucose_Output']]\n",
        "data1.head()\n",
        "data1.to_csv('Feature1.csv', index=False)\n",
        "x1 = data1.iloc[:, 0:1].values\n",
        "y1 = data1.iloc[:, 1].values\n",
        "from sklearn.model_selection import train_test_split\n",
        "model =  LogisticRegression()\n",
        "model.fit(x1,y1)\n",
        "prediction = model.predict_proba(x1)\n",
        "outGlucose=pd.DataFrame(prediction, columns=['0','1','2'])\n",
        "outGlucose.to_csv('glucosePredictions.csv',index=False, header=True)\n",
        "gluout = pd.read_csv('glucosePredictions.csv')\n",
        "\n"
      ],
      "execution_count": 21,
      "outputs": []
    },
    {
      "cell_type": "code",
      "metadata": {
        "id": "AUW6N02NB4HE"
      },
      "source": [
        "data['AgeOutput'] = data['age'].apply(lambda x: 'diabetes' if 45 <= x  else 'prediabetes' if x >= 25 and x <= 44 else 'normal' if x < 25 else 'diabetes')\n",
        "data.head()\n",
        "  \n",
        "#normal=0, prediabetes=2, diabetes=1\n",
        "data['AgeOutput'] = data['AgeOutput'].replace(['normal','prediabetes', 'diabetes'],[0,2,1])\n",
        "data.head()\n",
        "data.to_csv('feature2.csv',index=False, header=True)\n",
        "dataread = pd.read_csv('feature2.csv')\n",
        "data2 = pd.read_csv('feature2.csv')\n",
        "data2.head()\n",
        "data2 = data2[['age','AgeOutput']]\n",
        "data2.head()\n",
        "data2.to_csv('Feature2.csv', index=False)\n",
        "x2 = data2.iloc[:, 0:1].values\n",
        "y2 = data2.iloc[:, 1].values\n",
        "model =  LogisticRegression()\n",
        "model.fit(x2,y2)\n",
        "prediction = model.predict_proba(x2)\n",
        "outAge=pd.DataFrame(prediction, columns=['0','1','2'])\n",
        "outAge.to_csv('AgePredictions.csv',index=False, header=True)\n"
      ],
      "execution_count": 22,
      "outputs": []
    },
    {
      "cell_type": "code",
      "metadata": {
        "id": "Mty8QuRJCTUM"
      },
      "source": [
        "data['BMI_Output'] = data['bmi'].apply(lambda x: 'diabetes' if x >= 30 else 'prediabetes' if x > 24 and x < 30 else 'normal' if x < 25 else 'diabetes')\n",
        "data.head()\n",
        "  \n",
        "#normal=0, prediabetes=2, diabetes=1\n",
        "data['BMI_Output'] = data['BMI_Output'].replace(['normal','prediabetes', 'diabetes'],[0,2,1])\n",
        "data.head()\n",
        "data.to_csv('feature3.csv',index=False, header=True)\n",
        "data3 = pd.read_csv('feature3.csv')\n",
        "\n",
        "data3 = data3[['bmi','BMI_Output']]\n",
        "data3.head()\n",
        "x3 = data3.iloc[:, 0:1].values\n",
        "y3 = data3.iloc[:, 1].values\n",
        "model =  LogisticRegression()\n",
        "model.fit(x3,y3)\n",
        "prediction = model.predict_proba(x3)\n",
        "outbmi=pd.DataFrame(prediction, columns=['0','1','2'])\n",
        "outbmi.to_csv('BMIPredictions.csv',index=False, header=True)"
      ],
      "execution_count": 23,
      "outputs": []
    },
    {
      "cell_type": "code",
      "metadata": {
        "id": "86jgG1LnCiJ1"
      },
      "source": [
        "data['SysOutput'] = data['sys_bp'].apply(lambda x: 'diabetes' if x > 138 else 'prediabetes' if x > 123 and x <= 138 else 'normal' if x <124 else 'diabetes')\n",
        "data.head()\n",
        "  \n",
        "#normal=0, prediabetes=2, diabetes=1\n",
        "data['SysOutput'] = data['SysOutput'].replace(['normal','prediabetes', 'diabetes'],[0,2,1])\n",
        "data.head()\n",
        "data.to_csv('feature4.csv',index=False, header=True)\n",
        "data4 = pd.read_csv('feature4.csv')\n",
        "data4.head()\n",
        "data4 = data4[['sys_bp','SysOutput']]\n",
        "data4.head()\n",
        "data4.to_csv('Feature4.csv', index=False)\n",
        "x4 = data4.iloc[:, 0:1].values\n",
        "y4 = data4.iloc[:, 1].values\n",
        "model =  LogisticRegression()\n",
        "model.fit(x4,y4)\n",
        "prediction = model.predict_proba(x4)\n",
        "outsysbp=pd.DataFrame(prediction, columns=['0','1','2'])\n",
        "outsysbp.to_csv('sysBPPredictions.csv',index=False, header=True)"
      ],
      "execution_count": 24,
      "outputs": []
    },
    {
      "cell_type": "code",
      "metadata": {
        "id": "dH2GmQkuCyUI"
      },
      "source": [
        "data['diasOut'] = data['dia_bp'].apply(lambda x: 'diabetes' if x>81 else 'prediabetes' if x <81 and x >75 else 'normal' if x <= 75 else 'diabetes')\n",
        "data.head()\n",
        "  \n",
        "#normal=0, prediabetes=2, diabetes=1\n",
        "data['diasOut'] = data['diasOut'].replace(['normal','prediabetes', 'diabetes'],[0,2,1])\n",
        "data.head()\n",
        "data.to_csv('feature5.csv',index=False, header=True)\n",
        "data5 = pd.read_csv('feature5.csv')\n",
        "data5 = data5[['dia_bp','diasOut']]\n",
        "data5.head()\n",
        "data5.to_csv('Feature5.csv', index=False)\n",
        "data5\n",
        "x5 = data5.iloc[:, 0:1].values\n",
        "y5 = data5.iloc[:, 1].values\n",
        "model =  LogisticRegression()\n",
        "model.fit(x5,y5)\n",
        "prediction = model.predict_proba(x5)\n",
        "dias=pd.DataFrame(prediction, columns=['0','1','2'])\n",
        "dias.to_csv('diasBPPredictions.csv',index=False, header=True)\n"
      ],
      "execution_count": 25,
      "outputs": []
    },
    {
      "cell_type": "code",
      "metadata": {
        "id": "yOPWprMSC6qo"
      },
      "source": [
        "data['albOut'] = data['alb_cr_ratio'].apply(lambda x: 'diabetes' if  x>30  else 'prediabetes' if x >=3 and x <30 else 'normal' if x <3 else 'diabetes')  \n",
        "\n",
        "data['albOut'] = data['albOut'].replace(['normal','prediabetes', 'diabetes'],[0,2,1])\n",
        "\n",
        "data.to_csv('feature6.csv',index=False, header=True)\n",
        "\n",
        "data6 = pd.read_csv('feature6.csv')\n",
        "data6 = data6[['alb_cr_ratio','albOut']]\n",
        "data6.to_csv('Feature6.csv', index=False)\n",
        "\n",
        "x6 = data6.iloc[:, 0:1].values\n",
        "y6 = data6.iloc[:, 1].values\n",
        "\n",
        "model =  LogisticRegression()\n",
        "model.fit(x6,y6)\n",
        "prediction = model.predict_proba(x6)\n",
        "alb=pd.DataFrame(prediction, columns=['0','1','2'])\n",
        "alb.to_csv('albcrPredictions.csv',index=False, header=True)\n"
      ],
      "execution_count": 26,
      "outputs": []
    },
    {
      "cell_type": "code",
      "metadata": {
        "id": "Q10mz7IUC-Ay"
      },
      "source": [
        "data['waist'] = data['waist_cm'].apply(lambda x: 'diabetes' if 101 < x  else 'prediabetes' if x >94 and x <=101 else 'normal' if x <=94 else 'diabetes')  \n",
        "\n",
        "data['waist'] = data['waist'].replace(['normal','prediabetes', 'diabetes'],[0,2,1])\n",
        "\n",
        "data.to_csv('feature7.csv',index=False, header=True)\n",
        "\n",
        "data7 = pd.read_csv('feature7.csv')\n",
        "data7 = data7[['waist_cm','waist']]\n",
        "data7.to_csv('Feature7.csv', index=False)\n",
        "\n",
        "x7 = data7.iloc[:, 0:1].values\n",
        "y7 = data7.iloc[:, 1].values\n",
        "\n",
        "model =  LogisticRegression()\n",
        "model.fit(x7,y7)\n",
        "prediction = model.predict_proba(x7)\n",
        "wai=pd.DataFrame(prediction, columns=['0','1','2'])\n",
        "wai.to_csv('waistPredictions.csv',index=False, header=True)\n"
      ],
      "execution_count": 27,
      "outputs": []
    },
    {
      "cell_type": "code",
      "metadata": {
        "id": "u6YTDa9MDBGK"
      },
      "source": [
        "data['haemo'] = data['a1c'].apply(lambda x: 'diabetes' if  x>=6.5  else 'prediabetes' if x >=5.7 and x <6.5 else 'normal' if x<5.7 else 'diabetes')  \n",
        "\n",
        "data['haemo'] = data['haemo'].replace(['normal','prediabetes', 'diabetes'],[0,2,1])\n",
        "\n",
        "data.to_csv('feature8.csv',index=False, header=True)\n",
        "\n",
        "data8 = pd.read_csv('feature8.csv')\n",
        "data8 = data8[['a1c','haemo']]\n",
        "data8.to_csv('Feature8.csv', index=False)\n",
        "\n",
        "x8 = data8.iloc[:, 0:1].values\n",
        "y8 = data8.iloc[:, 1].values\n",
        "\n",
        "model =  LogisticRegression()\n",
        "model.fit(x8,y8)\n",
        "prediction = model.predict_proba(x8)\n",
        "hg=pd.DataFrame(prediction, columns=['0','1','2'])\n",
        "hg.to_csv('a1cPredictions.csv',index=False, header=True)\n"
      ],
      "execution_count": 28,
      "outputs": []
    },
    {
      "cell_type": "code",
      "metadata": {
        "id": "sDWL4Y0qDI1C"
      },
      "source": [
        "data['Tri'] = data['trigs'].apply(lambda x: 'diabetes' if 200<= x  else 'prediabetes' if x >=150 and x <200 else 'normal' if x <150 else 'diabetes')  \n",
        "\n",
        "data['Tri'] = data['Tri'].replace(['normal','prediabetes', 'diabetes'],[0,2,1])\n",
        "\n",
        "data.to_csv('feature10.csv',index=False, header=True)\n",
        "\n",
        "data10 = pd.read_csv('feature10.csv')\n",
        "data10 = data10[['trigs','Tri']]\n",
        "data10.to_csv('Feature10.csv', index=False)\n",
        "\n",
        "x10 = data10.iloc[:, 0:1].values\n",
        "y10 = data10.iloc[:, 1].values\n",
        "\n",
        "model =  LogisticRegression()\n",
        "model.fit(x10,y10)\n",
        "prediction = model.predict_proba(x10)\n",
        "gly=pd.DataFrame(prediction, columns=['0','1','2'])\n",
        "gly.to_csv('triglyPredictions.csv',index=False, header=True)\n"
      ],
      "execution_count": 29,
      "outputs": []
    },
    {
      "cell_type": "code",
      "metadata": {
        "id": "5SII_IZkDMer"
      },
      "source": [
        "data['chol'] = data['t_chol'].apply(lambda x: 'diabetes' if 240 <= x  else 'prediabetes' if x >=200 and x <240 else 'normal' if x <200 else 'diabetes')  \n",
        "\n",
        "data['chol'] = data['chol'].replace(['normal','prediabetes', 'diabetes'],[0,2,1])\n",
        "\n",
        "data.to_csv('feature11.csv',index=False, header=True)\n",
        "\n",
        "data11 = pd.read_csv('feature11.csv')\n",
        "data11 = data11[['t_chol','chol']]\n",
        "data11.to_csv('Feature11.csv', index=False)\n",
        "\n",
        "x11 = data11.iloc[:, 0:1].values\n",
        "y11 = data11.iloc[:, 1].values\n",
        "\n",
        "model =  LogisticRegression()\n",
        "model.fit(x11,y11)\n",
        "prediction = model.predict_proba(x11)\n",
        "choles=pd.DataFrame(prediction, columns=['0','1','2'])\n",
        "choles.to_csv('CholesPredictions.csv',index=False, header=True)\n"
      ],
      "execution_count": 30,
      "outputs": []
    },
    {
      "cell_type": "code",
      "metadata": {
        "id": "_SD25y7NDPER"
      },
      "source": [
        "data['serum'] = data['glucose.1'].apply(lambda x: 'diabetes' if 200 <= x  else 'prediabetes' if x >=140 and x <200 else 'normal' if x<140 else 'diabetes')  \n",
        "\n",
        "data['serum'] = data['serum'].replace(['normal','prediabetes', 'diabetes'],[0,2,1])\n",
        "\n",
        "data.to_csv('feature12.csv',index=False, header=True)\n",
        "\n",
        "data12 = pd.read_csv('feature12.csv')\n",
        "data12 = data12[['glucose.1','serum']]\n",
        "data12.to_csv('Feature12.csv', index=False)\n",
        "\n",
        "x12 = data12.iloc[:, 0:1].values\n",
        "y12 = data12.iloc[:, 1].values\n",
        "\n",
        "model =  LogisticRegression()\n",
        "model.fit(x12,y12)\n",
        "prediction = model.predict_proba(x12)\n",
        "ser=pd.DataFrame(prediction, columns=['0','1','2'])\n",
        "ser.to_csv('SerumGluPredictions.csv',index=False, header=True)\n"
      ],
      "execution_count": 31,
      "outputs": []
    },
    {
      "cell_type": "code",
      "metadata": {
        "id": "ytBwdETRDQn_"
      },
      "source": [
        "label=['gender',\t'age',\t'bmi',\t'waist_cm',\t'sys_bp',\t'dia_bp',\t'alb_cr_ratio',\t\t't_chol',\t\t'glucose',\t'trigs',\t'a1c',\t'glucose.1'\t]"
      ],
      "execution_count": 32,
      "outputs": []
    },
    {
      "cell_type": "code",
      "metadata": {
        "id": "O-jqcMuiDWZy",
        "outputId": "901ad42f-b124-4c97-b478-319ba4d1c3b4",
        "colab": {
          "base_uri": "https://localhost:8080/",
          "height": 175
        }
      },
      "source": [
        "x_train, x_test, y_train, y_test = train_test_split(x, ynew, test_size=0.2)\n",
        "from sklearn.ensemble import RandomForestClassifier\n",
        "RFclassifier = RandomForestClassifier(n_estimators = 100,random_state=0,warm_start=True)\n",
        "RFclassifier.fit(x_train, y_train)\n",
        "y_pred = RFclassifier.predict(x_test)\n",
        "print(classification_report(y_test, y_pred))\n",
        "\n",
        "\n"
      ],
      "execution_count": 38,
      "outputs": [
        {
          "output_type": "stream",
          "text": [
            "              precision    recall  f1-score   support\n",
            "\n",
            "           0       0.97      0.99      0.98       889\n",
            "           1       0.96      0.82      0.89       153\n",
            "\n",
            "    accuracy                           0.97      1042\n",
            "   macro avg       0.97      0.91      0.93      1042\n",
            "weighted avg       0.97      0.97      0.97      1042\n",
            "\n"
          ],
          "name": "stdout"
        }
      ]
    },
    {
      "cell_type": "code",
      "metadata": {
        "id": "8br8keDlDZVS",
        "outputId": "8adc460b-a695-4f2f-b214-8b6255e8be3d",
        "colab": {
          "base_uri": "https://localhost:8080/",
          "height": 548
        }
      },
      "source": [
        "def plot_feature_importance(importance,names,model_type):\n",
        "  feature_importance = np.array(importance)\n",
        "  feature_names = np.array(names)\n",
        " \n",
        "#Create a DataFrame using a Dictionary\n",
        "  data={'feature_names':feature_names,'feature_importance':feature_importance}\n",
        "  fi_df = pd.DataFrame(data)\n",
        " \n",
        "#Sort the DataFrame in order decreasing feature importance\n",
        "  fi_df.sort_values(by=['feature_importance'], ascending=False,inplace=True)\n",
        "  #Define size of bar plot\n",
        "  plt.figure(figsize=(10,8))\n",
        "#Plot Searborn bar chart\n",
        "  sns.barplot(x=fi_df['feature_importance'], y=fi_df['feature_names'])\n",
        "#Add chart labels\n",
        "  plt.title(model_type + ' FEATURE IMPORTANCE')\n",
        "  plt.xlabel('FEATURE IMPORTANCE')\n",
        "  plt.ylabel('FEATURE NAMES')\n",
        "\n",
        "plot_feature_importance(RFclassifier.feature_importances_,label,'RANDOM FOREST')\n",
        "weight =RFclassifier.feature_importances_\n",
        "print(weight)"
      ],
      "execution_count": 39,
      "outputs": [
        {
          "output_type": "stream",
          "text": [
            "[0.00361781 0.02955557 0.02252485 0.02796729 0.01859819 0.01567877\n",
            " 0.03354998 0.03058236 0.13145027 0.02053054 0.50610942 0.15983495]\n"
          ],
          "name": "stdout"
        },
        {
          "output_type": "display_data",
          "data": {
            "image/png": "[encoded data removed]",
            "text/plain": [
              "<Figure size 720x576 with 1 Axes>"
            ]
          },
          "metadata": {
            "tags": [],
            "needs_background": "light"
          }
        }
      ]
    },
    {
      "cell_type": "code",
      "metadata": {
        "id": "TDDcFxIPD5EE"
      },
      "source": [
        "glucose = pd.read_csv('glucosePredictions.csv')\n",
        "G0=glucose.iloc[:,0]\n",
        "G1=glucose.iloc[:,1]\n",
        "G2=glucose.iloc[:,2]\n",
        "Age = pd.read_csv('AgePredictions.csv')\n",
        "A0=Age.iloc[:,0]\n",
        "A1=Age.iloc[:,1]\n",
        "A2=Age.iloc[:,2]\n",
        "bmi = pd.read_csv('BMIPredictions.csv')\n",
        "B0=bmi.iloc[:,0]\n",
        "B1=bmi.iloc[:,1]\n",
        "B2=bmi.iloc[:,2]\n",
        "wai = pd.read_csv('waistPredictions.csv')\n",
        "W0=wai.iloc[:,0]\n",
        "W1=wai.iloc[:,1]\n",
        "W2=wai.iloc[:,2]\n",
        "sys = pd.read_csv('sysBPPredictions.csv')\n",
        "S0=sys.iloc[:,0]\n",
        "S1=sys.iloc[:,1]\n",
        "S2=sys.iloc[:,2]\n",
        "dia = pd.read_csv('diasBPPredictions.csv')\n",
        "D0=dia.iloc[:,0]\n",
        "D1=dia.iloc[:,1]\n",
        "D2=dia.iloc[:,2]\n",
        "ratio = pd.read_csv('albcrPredictions.csv')\n",
        "alb0=ratio.iloc[:,0]\n",
        "alb1=ratio.iloc[:,1]\n",
        "alb2=ratio.iloc[:,2]\n",
        "chol = pd.read_csv('CholesPredictions.csv')\n",
        "C0=chol.iloc[:,0]\n",
        "C1=chol.iloc[:,1]\n",
        "C2=chol.iloc[:,2]\n",
        "tr = pd.read_csv('triglyPredictions.csv')\n",
        "T0=tr.iloc[:,0]\n",
        "T1=tr.iloc[:,1]\n",
        "T2=tr.iloc[:,2]\n",
        "a1c = pd.read_csv('a1cPredictions.csv')\n",
        "a1c0=a1c.iloc[:,0]\n",
        "a1c1=a1c.iloc[:,1]\n",
        "a1c2=a1c.iloc[:,2]\n",
        "pl = pd.read_csv('SerumGluPredictions.csv')\n",
        "Se0=pl.iloc[:,0]\n",
        "Se1=pl.iloc[:,1]\n",
        "Se2=pl.iloc[:,2]\n",
        "\n",
        "Gen0=B0\n",
        "Gen1=B1\n",
        "Gen2=B2\n",
        "####Gender ---take the same output as existing"
      ],
      "execution_count": 42,
      "outputs": []
    },
    {
      "cell_type": "code",
      "metadata": {
        "id": "HOsAYHtTESt4",
        "outputId": "0c750862-1824-4943-bd2b-0c802e907e47",
        "colab": {
          "base_uri": "https://localhost:8080/",
          "height": 54
        }
      },
      "source": [
        "\n",
        "res=[]\n",
        "for (a0,a1,a2,b0,b1,b2,c0,c1,c2,d0,d1,d2,e0,e1,e2,f0,f1,f2,g0,g1,g2,h0,h1,h2,i0,i1,i2,j0,j1,j2,k0,k1,k2,l0,l1,l2) in zip(Gen0,Gen1,Gen2,A0,A1,A2,B0,B1,B2,W0,W1,W2,S0,S1,S2,D0,D1,D2,alb0,alb1,alb2,C0,C1,C2,G0,G1,G2,T0,T1,T2,a1c0,a1c1,a1c2,Se0,Se1,Se2):\n",
        "\n",
        "  s0= (a0*weight[0])+(b0*weight[1])+(c0*weight[2])+(d0*weight[3])+(e0*weight[4])+(f0*weight[5])+(g0*weight[6])+(h0*weight[7])+(i0*weight[8])+(j0*weight[9])+(k0*weight[10])+(l0*weight[11])\n",
        "  s1= (a1*weight[0])+(b1*weight[1])+(c1*weight[2])+(d1*weight[3])+(e1*weight[4])+(f1*weight[5])+(g1*weight[6])+(h1*weight[7])+(i1*weight[8])+(j1*weight[9])+(k1*weight[10])+(l1*weight[11])\n",
        "  s2= (a2*weight[0])+(b2*weight[1])+(c2*weight[2])+(d2*weight[3])+(e2*weight[4])+(f2*weight[5])+(g2*weight[6])+(h2*weight[7])+(i2*weight[8])+(j2*weight[9])+(k2*weight[10])+(l2*weight[11])\n",
        "\n",
        "  result =max(s0,s1,s2)\n",
        "  if result ==s0:\n",
        "    add=0\n",
        "  elif result ==s1:\n",
        "    add=1\n",
        "  elif result==s2:\n",
        "    add=2\n",
        "\n",
        "  res.append(add)\n",
        "\n",
        "print('result',res)\n"
      ],
      "execution_count": 43,
      "outputs": [
        {
          "output_type": "stream",
          "text": [
            "result [0, 0, 0, 0, 2, 0, 0, 0, 0, 0, 0, 0, 0, 0, 2, 0, 0, 0, 0, 0, 0, 0, 0, 0, 0, 0, 0, 0, 0, 0, 0, 0, 0, 0, 0, 0, 0, 0, 0, 0, 0, 0, 0, 0, 0, 0, 0, 0, 0, 0, 0, 0, 2, 0, 0, 0, 0, 2, 0, 0, 0, 2, 0, 0, 2, 0, 0, 0, 0, 0, 0, 0, 0, 0, 0, 0, 0, 0, 2, 0, 0, 2, 2, 0, 0, 0, 2, 0, 0, 0, 0, 0, 0, 0, 0, 0, 0, 0, 0, 0, 0, 0, 0, 0, 0, 0, 0, 0, 0, 0, 0, 0, 0, 0, 0, 0, 0, 0, 0, 0, 0, 0, 0, 0, 0, 0, 0, 0, 0, 0, 0, 0, 0, 0, 0, 0, 0, 0, 0, 0, 0, 0, 0, 0, 0, 0, 0, 0, 0, 0, 0, 0, 0, 0, 0, 1, 0, 0, 0, 0, 0, 0, 2, 0, 0, 0, 0, 0, 0, 0, 0, 0, 0, 0, 0, 0, 0, 0, 0, 0, 0, 0, 0, 0, 0, 0, 2, 0, 0, 0, 0, 0, 0, 0, 2, 0, 0, 0, 0, 0, 0, 0, 0, 0, 0, 0, 0, 0, 0, 0, 0, 0, 0, 2, 1, 0, 0, 0, 0, 0, 0, 0, 0, 0, 0, 0, 0, 0, 2, 0, 0, 0, 0, 0, 1, 0, 0, 0, 0, 0, 0, 0, 0, 2, 0, 0, 0, 0, 0, 0, 0, 0, 0, 0, 0, 2, 0, 2, 0, 0, 0, 0, 0, 0, 0, 0, 0, 0, 0, 0, 0, 0, 0, 2, 0, 0, 2, 0, 0, 0, 1, 0, 0, 0, 0, 0, 0, 0, 0, 0, 0, 0, 0, 0, 0, 0, 0, 0, 2, 0, 2, 0, 0, 0, 0, 0, 0, 0, 0, 0, 0, 0, 0, 0, 0, 0, 0, 2, 0, 0, 0, 0, 0, 2, 2, 0, 0, 0, 0, 0, 0, 0, 2, 2, 0, 0, 0, 0, 0, 0, 0, 0, 0, 0, 0, 0, 0, 0, 0, 0, 0, 0, 0, 0, 0, 0, 0, 0, 0, 2, 0, 0, 0, 0, 0, 0, 2, 0, 0, 0, 0, 0, 0, 0, 0, 0, 0, 0, 0, 0, 0, 0, 1, 2, 0, 0, 0, 0, 2, 0, 0, 0, 0, 0, 0, 0, 0, 0, 2, 0, 0, 0, 0, 0, 0, 0, 0, 1, 0, 0, 0, 2, 0, 0, 0, 0, 0, 0, 0, 0, 0, 0, 0, 0, 0, 0, 0, 0, 0, 0, 0, 0, 0, 0, 0, 0, 0, 0, 0, 0, 2, 0, 2, 0, 0, 0, 0, 0, 0, 0, 0, 0, 0, 0, 0, 0, 0, 0, 2, 0, 0, 0, 0, 2, 0, 0, 0, 0, 0, 0, 0, 0, 2, 0, 0, 0, 0, 0, 0, 0, 0, 0, 0, 0, 2, 0, 0, 0, 0, 0, 0, 0, 0, 0, 0, 2, 0, 0, 0, 0, 0, 0, 0, 2, 0, 0, 0, 0, 0, 0, 0, 0, 0, 0, 0, 0, 0, 0, 0, 0, 0, 0, 0, 0, 0, 0, 0, 0, 0, 0, 0, 0, 0, 0, 0, 0, 0, 0, 0, 0, 0, 0, 0, 0, 0, 0, 0, 2, 0, 0, 0, 0, 0, 0, 0, 0, 0, 0, 0, 0, 0, 0, 0, 0, 0, 0, 0, 0, 0, 0, 1, 0, 2, 0, 0, 0, 0, 0, 0, 0, 0, 0, 0, 0, 2, 2, 0, 0, 0, 2, 1, 0, 2, 0, 0, 0, 0, 0, 0, 0, 0, 0, 0, 0, 0, 0, 0, 0, 0, 0, 0, 0, 0, 0, 0, 0, 0, 0, 0, 0, 1, 0, 0, 0, 0, 0, 0, 0, 0, 0, 0, 0, 0, 0, 0, 0, 0, 0, 0, 2, 0, 1, 2, 2, 0, 0, 0, 0, 0, 0, 0, 0, 0, 0, 0, 0, 0, 0, 0, 0, 0, 0, 0, 0, 0, 0, 0, 0, 0, 0, 2, 2, 0, 2, 0, 0, 0, 0, 0, 0, 0, 0, 0, 0, 0, 0, 0, 0, 0, 0, 0, 0, 0, 0, 2, 0, 0, 0, 0, 0, 0, 0, 0, 0, 0, 0, 0, 0, 0, 0, 0, 0, 0, 0, 0, 0, 0, 2, 0, 0, 0, 2, 0, 2, 0, 0, 0, 0, 0, 0, 0, 0, 0, 0, 0, 0, 2, 0, 0, 0, 2, 0, 1, 2, 0, 0, 0, 0, 0, 0, 0, 0, 0, 0, 0, 0, 0, 2, 0, 2, 0, 0, 0, 0, 0, 0, 0, 0, 0, 0, 0, 0, 0, 2, 0, 0, 0, 0, 0, 1, 0, 0, 0, 0, 0, 0, 0, 0, 0, 0, 2, 0, 0, 0, 0, 0, 0, 0, 2, 0, 2, 0, 0, 0, 0, 0, 0, 0, 0, 0, 1, 0, 0, 0, 0, 0, 0, 0, 0, 0, 0, 1, 0, 0, 0, 0, 0, 2, 0, 0, 2, 0, 0, 2, 0, 0, 0, 0, 0, 0, 0, 0, 0, 0, 0, 0, 2, 0, 0, 0, 1, 0, 0, 0, 0, 0, 0, 0, 0, 0, 0, 0, 0, 0, 0, 2, 0, 0, 0, 2, 0, 0, 0, 0, 0, 0, 0, 0, 0, 0, 0, 0, 0, 0, 0, 0, 0, 0, 0, 0, 0, 0, 0, 0, 2, 0, 0, 0, 0, 0, 0, 0, 0, 0, 2, 0, 0, 0, 0, 2, 0, 0, 0, 0, 0, 0, 0, 0, 2, 0, 0, 2, 0, 0, 0, 0, 0, 0, 0, 0, 0, 0, 0, 0, 0, 0, 0, 0, 0, 0, 0, 0, 0, 0, 0, 0, 2, 0, 0, 0, 0, 1, 0, 0, 0, 0, 0, 0, 0, 0, 0, 0, 0, 0, 0, 0, 0, 0, 0, 2, 2, 0, 2, 0, 2, 1, 2, 0, 0, 0, 0, 0, 0, 0, 0, 0, 0, 0, 0, 0, 0, 0, 0, 0, 0, 0, 1, 1, 0, 0, 0, 0, 2, 0, 2, 0, 2, 0, 0, 0, 0, 0, 2, 0, 0, 2, 2, 0, 0, 0, 0, 1, 0, 0, 0, 0, 0, 0, 0, 0, 0, 0, 0, 2, 2, 1, 0, 2, 0, 0, 0, 2, 0, 0, 0, 0, 0, 2, 0, 0, 0, 0, 2, 0, 2, 0, 1, 0, 0, 0, 0, 0, 0, 0, 0, 0, 0, 2, 0, 0, 0, 0, 0, 2, 0, 0, 0, 2, 0, 0, 0, 0, 0, 2, 2, 0, 0, 0, 0, 1, 0, 0, 0, 0, 0, 2, 0, 0, 0, 0, 0, 0, 0, 0, 0, 0, 2, 0, 0, 0, 0, 0, 0, 0, 0, 0, 0, 0, 0, 0, 0, 0, 0, 0, 0, 0, 0, 2, 0, 0, 2, 0, 0, 0, 0, 0, 2, 0, 0, 0, 0, 0, 0, 0, 0, 0, 2, 0, 0, 0, 0, 0, 0, 1, 0, 0, 2, 1, 0, 0, 0, 0, 0, 0, 0, 0, 0, 0, 0, 0, 0, 0, 0, 2, 0, 0, 0, 0, 0, 0, 0, 0, 0, 0, 0, 0, 0, 0, 0, 0, 0, 2, 0, 0, 2, 0, 0, 0, 0, 0, 0, 2, 0, 2, 0, 2, 2, 0, 0, 1, 2, 0, 0, 0, 0, 0, 0, 0, 0, 0, 0, 0, 0, 0, 0, 0, 0, 0, 0, 0, 0, 2, 0, 0, 1, 0, 0, 0, 0, 0, 0, 1, 2, 1, 0, 0, 0, 0, 0, 0, 0, 0, 0, 0, 2, 0, 2, 0, 0, 0, 0, 0, 0, 2, 0, 0, 0, 0, 1, 0, 0, 0, 0, 2, 0, 0, 0, 0, 0, 2, 1, 0, 2, 0, 0, 0, 0, 0, 0, 0, 2, 0, 2, 2, 0, 0, 0, 0, 2, 0, 2, 0, 0, 0, 0, 0, 0, 0, 0, 0, 0, 0, 2, 0, 0, 2, 2, 1, 0, 0, 2, 0, 0, 0, 0, 0, 0, 0, 2, 0, 0, 0, 0, 0, 0, 0, 0, 0, 0, 0, 0, 0, 0, 0, 0, 0, 0, 0, 0, 0, 0, 0, 0, 0, 0, 1, 0, 0, 0, 0, 0, 0, 2, 0, 0, 0, 2, 0, 0, 2, 0, 0, 0, 2, 0, 2, 0, 0, 0, 0, 0, 0, 0, 0, 0, 0, 0, 0, 0, 1, 0, 2, 0, 0, 0, 2, 2, 0, 1, 1, 0, 0, 0, 1, 0, 0, 0, 0, 0, 0, 0, 2, 0, 2, 0, 0, 0, 0, 2, 0, 0, 0, 2, 0, 2, 0, 2, 0, 0, 0, 0, 0, 0, 0, 0, 0, 0, 0, 0, 2, 0, 0, 0, 0, 0, 2, 0, 0, 0, 0, 0, 0, 0, 0, 0, 0, 0, 0, 0, 2, 1, 2, 0, 0, 0, 0, 0, 0, 1, 0, 0, 0, 0, 0, 0, 2, 2, 0, 2, 0, 0, 0, 2, 2, 0, 2, 0, 2, 2, 2, 0, 0, 0, 0, 0, 0, 2, 0, 0, 0, 0, 2, 0, 0, 0, 0, 2, 0, 0, 0, 0, 0, 0, 0, 2, 2, 0, 0, 2, 0, 0, 0, 0, 2, 0, 0, 2, 0, 0, 0, 0, 2, 0, 0, 0, 0, 0, 0, 0, 0, 0, 0, 0, 2, 2, 0, 0, 0, 0, 0, 2, 0, 2, 0, 0, 0, 0, 2, 0, 0, 0, 2, 2, 0, 0, 0, 0, 0, 0, 2, 0, 0, 0, 0, 0, 0, 0, 0, 2, 0, 1, 0, 0, 0, 0, 0, 0, 0, 1, 1, 2, 0, 2, 0, 0, 0, 0, 0, 2, 0, 0, 0, 0, 1, 0, 2, 0, 0, 0, 2, 0, 0, 2, 0, 2, 0, 0, 0, 2, 0, 0, 1, 0, 2, 0, 0, 0, 0, 0, 0, 2, 0, 0, 0, 2, 0, 1, 0, 2, 1, 0, 0, 0, 2, 0, 0, 0, 0, 2, 0, 0, 2, 0, 0, 0, 0, 0, 0, 0, 2, 0, 2, 0, 0, 2, 0, 2, 2, 1, 2, 2, 2, 1, 0, 0, 0, 2, 0, 0, 0, 0, 2, 0, 0, 0, 0, 0, 0, 0, 0, 2, 0, 0, 2, 0, 2, 1, 0, 0, 0, 0, 0, 0, 2, 2, 0, 0, 0, 0, 0, 0, 0, 0, 0, 1, 1, 0, 0, 0, 0, 0, 2, 0, 2, 0, 0, 0, 0, 0, 0, 2, 0, 0, 0, 2, 2, 0, 2, 0, 2, 0, 0, 0, 0, 0, 1, 0, 0, 0, 2, 0, 0, 0, 2, 0, 0, 0, 0, 0, 0, 0, 0, 0, 1, 1, 0, 0, 0, 0, 2, 0, 0, 0, 0, 2, 2, 0, 0, 2, 0, 0, 0, 0, 0, 1, 0, 0, 0, 0, 0, 1, 0, 0, 0, 0, 0, 0, 0, 0, 1, 1, 0, 0, 2, 0, 0, 0, 0, 0, 0, 1, 0, 0, 2, 2, 0, 0, 0, 2, 0, 0, 0, 0, 2, 0, 2, 0, 0, 0, 2, 0, 0, 0, 0, 2, 0, 0, 0, 2, 0, 2, 2, 0, 2, 0, 0, 0, 0, 0, 0, 0, 0, 0, 2, 0, 2, 0, 0, 0, 0, 0, 0, 2, 0, 0, 0, 1, 2, 0, 2, 0, 2, 1, 0, 2, 0, 0, 2, 0, 0, 0, 2, 0, 0, 1, 0, 0, 2, 0, 0, 2, 0, 2, 2, 0, 0, 0, 0, 2, 0, 0, 2, 0, 0, 1, 0, 0, 0, 0, 0, 0, 0, 2, 0, 0, 0, 0, 0, 0, 0, 1, 0, 2, 2, 0, 2, 0, 0, 0, 0, 2, 0, 0, 0, 0, 0, 1, 0, 2, 0, 0, 0, 0, 0, 0, 2, 0, 0, 0, 0, 0, 0, 1, 0, 0, 0, 0, 0, 2, 0, 1, 0, 0, 0, 2, 0, 0, 0, 0, 0, 0, 2, 0, 2, 0, 2, 0, 1, 1, 2, 2, 0, 0, 2, 2, 2, 0, 1, 1, 0, 2, 2, 0, 0, 0, 0, 2, 0, 0, 0, 2, 0, 0, 0, 2, 0, 2, 0, 0, 0, 2, 0, 0, 0, 0, 0, 0, 1, 0, 2, 0, 0, 0, 2, 0, 0, 2, 0, 0, 0, 0, 0, 0, 0, 0, 0, 0, 0, 2, 1, 0, 0, 2, 1, 2, 0, 1, 2, 1, 1, 2, 0, 2, 2, 0, 0, 0, 2, 0, 0, 2, 0, 0, 0, 0, 0, 0, 0, 2, 0, 0, 0, 0, 0, 0, 0, 2, 1, 0, 0, 2, 0, 0, 0, 0, 0, 2, 0, 1, 0, 0, 2, 0, 1, 0, 2, 0, 0, 2, 0, 0, 2, 0, 0, 2, 0, 2, 1, 0, 2, 0, 0, 0, 0, 0, 0, 0, 0, 2, 0, 2, 0, 0, 0, 0, 0, 0, 0, 0, 0, 0, 2, 1, 1, 1, 1, 1, 1, 0, 0, 0, 1, 0, 0, 0, 1, 0, 2, 0, 1, 2, 0, 0, 0, 0, 0, 0, 2, 0, 0, 0, 2, 2, 0, 0, 0, 0, 0, 0, 0, 0, 2, 0, 2, 0, 0, 0, 2, 0, 0, 0, 0, 0, 1, 0, 0, 2, 0, 1, 2, 2, 0, 0, 0, 0, 0, 0, 2, 0, 0, 2, 2, 0, 2, 2, 1, 2, 0, 0, 0, 2, 0, 2, 2, 1, 0, 0, 2, 0, 1, 0, 0, 0, 0, 0, 2, 0, 0, 2, 0, 2, 0, 2, 2, 0, 2, 0, 0, 0, 0, 0, 2, 0, 2, 0, 1, 0, 0, 0, 0, 0, 0, 0, 0, 0, 0, 0, 0, 0, 0, 0, 1, 0, 0, 1, 0, 0, 0, 0, 0, 0, 0, 0, 0, 0, 0, 2, 0, 0, 0, 0, 0, 0, 2, 0, 0, 0, 1, 0, 0, 0, 0, 2, 0, 0, 0, 2, 0, 0, 0, 0, 0, 0, 2, 1, 0, 0, 0, 0, 0, 2, 0, 0, 2, 2, 0, 1, 0, 0, 1, 2, 1, 0, 0, 0, 2, 0, 0, 0, 1, 2, 2, 2, 0, 0, 0, 0, 2, 2, 0, 0, 2, 0, 2, 1, 0, 2, 2, 1, 2, 1, 0, 0, 2, 0, 0, 2, 0, 2, 0, 0, 2, 0, 0, 2, 2, 0, 2, 0, 2, 2, 0, 0, 0, 0, 0, 0, 0, 0, 2, 0, 0, 2, 0, 2, 0, 2, 0, 0, 2, 1, 1, 2, 0, 0, 1, 0, 0, 0, 0, 2, 0, 2, 0, 2, 0, 0, 0, 0, 0, 0, 0, 1, 0, 2, 0, 2, 0, 0, 0, 1, 0, 2, 0, 0, 2, 0, 0, 2, 2, 0, 0, 0, 0, 2, 2, 0, 0, 0, 0, 0, 0, 2, 0, 2, 0, 0, 2, 0, 0, 2, 0, 2, 2, 1, 0, 2, 2, 0, 0, 0, 2, 1, 2, 2, 1, 0, 2, 2, 1, 2, 2, 0, 2, 0, 1, 1, 2, 2, 2, 0, 2, 1, 0, 2, 0, 0, 2, 2, 0, 2, 0, 0, 2, 0, 2, 0, 2, 2, 2, 2, 2, 1, 2, 0, 2, 0, 0, 0, 2, 0, 0, 0, 0, 1, 2, 0, 1, 1, 2, 0, 0, 2, 0, 2, 0, 0, 0, 2, 0, 2, 0, 0, 0, 0, 0, 2, 2, 0, 0, 0, 0, 0, 0, 2, 0, 0, 0, 0, 2, 0, 2, 1, 2, 2, 0, 0, 1, 2, 0, 0, 0, 0, 0, 2, 2, 0, 2, 0, 0, 2, 1, 0, 0, 0, 0, 2, 0, 0, 2, 2, 0, 0, 2, 0, 0, 0, 0, 0, 0, 0, 0, 0, 2, 0, 2, 0, 0, 2, 0, 0, 0, 0, 0, 0, 2, 0, 2, 0, 0, 0, 2, 0, 0, 1, 0, 0, 0, 2, 2, 0, 0, 0, 1, 2, 0, 0, 0, 0, 0, 0, 0, 2, 0, 1, 2, 2, 1, 1, 2, 2, 2, 0, 2, 0, 0, 0, 0, 2, 0, 0, 0, 0, 1, 0, 0, 2, 2, 2, 2, 2, 0, 0, 0, 2, 0, 1, 1, 0, 1, 2, 0, 0, 0, 0, 0, 0, 2, 0, 2, 2, 0, 0, 2, 0, 0, 0, 0, 2, 2, 1, 0, 0, 0, 0, 0, 0, 0, 0, 0, 0, 0, 0, 2, 2, 2, 0, 2, 2, 2, 1, 2, 0, 0, 2, 0, 0, 0, 2, 0, 0, 2, 0, 0, 0, 0, 1, 0, 2, 0, 0, 2, 2, 0, 0, 2, 0, 0, 0, 1, 2, 1, 2, 2, 1, 1, 1, 0, 0, 0, 0, 0, 2, 0, 0, 0, 0, 0, 0, 2, 0, 0, 0, 0, 1, 2, 1, 0, 2, 0, 0, 0, 0, 2, 2, 0, 2, 0, 2, 1, 0, 1, 0, 1, 2, 2, 0, 0, 0, 0, 0, 0, 0, 2, 0, 1, 2, 0, 0, 1, 1, 2, 2, 2, 0, 2, 2, 0, 2, 0, 0, 0, 1, 0, 0, 2, 0, 0, 2, 2, 0, 0, 2, 0, 2, 0, 0, 0, 2, 0, 2, 0, 0, 0, 2, 0, 2, 0, 2, 2, 2, 0, 0, 2, 2, 0, 2, 2, 0, 1, 1, 2, 1, 2, 1, 1, 0, 0, 0, 0, 2, 0, 0, 0, 1, 1, 1, 0, 0, 0, 0, 2, 0, 0, 1, 0, 0, 1, 0, 0, 0, 0, 0, 0, 2, 0, 0, 1, 2, 0, 0, 0, 0, 2, 0, 0, 0, 0, 0, 2, 0, 0, 0, 2, 2, 2, 1, 1, 0, 0, 2, 2, 0, 2, 1, 2, 0, 0, 0, 2, 0, 0, 2, 2, 0, 2, 0, 0, 0, 2, 0, 0, 0, 0, 0, 2, 2, 2, 1, 2, 1, 1, 1, 1, 1, 1, 0, 0, 0, 2, 2, 2, 0, 2, 0, 1, 2, 2, 0, 2, 0, 2, 0, 1, 0, 2, 2, 0, 0, 1, 2, 2, 0, 0, 0, 0, 2, 0, 2, 1, 1, 1, 2, 0, 0, 0, 2, 0, 0, 0, 0, 0, 2, 2, 2, 1, 1, 0, 1, 2, 0, 0, 2, 2, 0, 2, 0, 2, 0, 2, 2, 2, 2, 0, 0, 2, 0, 2, 0, 2, 0, 0, 2, 1, 1, 1, 1, 1, 1, 0, 0, 0, 2, 0, 0, 1, 2, 1, 0, 0, 2, 0, 2, 0, 0, 2, 2, 0, 1, 0, 0, 2, 2, 0, 2, 2, 0, 1, 0, 0, 0, 0, 0, 2, 2, 0, 0, 2, 0, 0, 2, 1, 0, 0, 1, 0, 2, 0, 0, 2, 2, 1, 1, 2, 1, 1, 0, 0, 0, 2, 0, 0, 2, 0, 2, 2, 0, 2, 2, 0, 2, 0, 2, 2, 0, 2, 2, 2, 0, 2, 0, 0, 0, 2, 0, 0, 0, 2, 2, 1, 1, 1, 1, 1, 2, 0, 2, 2, 0, 0, 0, 1, 1, 0, 0, 0, 0, 0, 0, 2, 2, 0, 0, 0, 0, 2, 0, 0, 0, 0, 0, 2, 1, 0, 2, 0, 0, 2, 2, 0, 0, 0, 2, 2, 0, 0, 0, 0, 0, 2, 1, 1, 2, 2, 2, 0, 0, 0, 0, 0, 0, 2, 2, 0, 0, 2, 2, 2, 0, 0, 2, 2, 2, 2, 0, 1, 0, 2, 2, 2, 1, 1, 1, 1, 1, 1, 1, 1, 2, 2, 0, 2, 0, 1, 0, 0, 0, 0, 0, 1, 2, 0, 0, 0, 1, 0, 0, 0, 0, 2, 2, 0, 0, 0, 0, 1, 0, 0, 0, 2, 1, 0, 0, 2, 0, 2, 2, 2, 0, 0, 2, 0, 2, 0, 2, 2, 0, 0, 0, 2, 1, 1, 1, 1, 2, 2, 0, 2, 2, 2, 2, 0, 0, 2, 2, 2, 0, 0, 0, 2, 0, 0, 2, 0, 0, 0, 2, 0, 2, 2, 0, 2, 2, 1, 0, 0, 0, 0, 2, 2, 1, 1, 2, 1, 0, 0, 0, 2, 0, 2, 0, 0, 0, 0, 2, 2, 0, 0, 1, 1, 2, 2, 0, 0, 0, 0, 2, 0, 0, 2, 0, 0, 0, 1, 0, 0, 2, 2, 0, 0, 0, 0, 2, 0, 0, 0, 1, 1, 2, 1, 2, 2, 0, 0, 0, 0, 2, 2, 0, 2, 2, 2, 0, 2, 0, 0, 0, 0, 1, 1, 0, 1, 0, 2, 0, 2, 0, 0, 0, 2, 2, 2, 1, 2, 2, 2, 0, 0, 1, 2, 2, 0, 2, 1, 2, 0, 0, 0, 2, 1, 2, 2, 2, 0, 0, 2, 2, 0, 0, 0, 0, 1, 0, 2, 0, 0, 0, 0, 2, 0, 2, 2, 0, 2, 2, 2, 2, 2, 2, 0, 0, 2, 2, 2, 2, 2, 0, 0, 0, 0, 1, 2, 1, 2, 1, 1, 1, 2, 2, 0, 2, 2, 2, 1, 0, 0, 2, 2, 0, 1, 0, 2, 2, 2, 1, 2, 2, 0, 2, 0, 0, 2, 1, 2, 0, 2, 2, 1, 2, 0, 0, 2, 0, 0, 0, 0, 2, 2, 2, 0, 0, 0, 1, 2, 2, 2, 2, 0, 2, 0, 0, 1, 0, 1, 2, 0, 0, 0, 0, 0, 2, 2, 2, 2, 2, 2, 2, 2, 1, 1, 0, 0, 1, 2, 2, 1, 0, 2, 2, 0, 0, 0, 2, 2, 2, 0, 2, 0, 2, 2, 0, 2, 2, 0, 0, 0, 0, 0, 0, 0, 2, 2, 0, 0, 2, 0, 0, 0, 0, 0, 0, 0, 0, 2, 0, 2, 0, 1, 0, 2, 0, 0, 2, 2, 0, 0, 2, 0, 0, 2, 2, 2, 1, 2, 0, 2, 1, 2, 2, 2, 0, 0, 0, 2, 0, 2, 0, 0, 0, 0, 0, 2, 0, 0, 0, 2, 2, 2, 2, 0, 2, 2, 2, 0, 2, 0, 0, 2, 2, 1, 1, 2, 2, 2, 1, 0, 1, 1, 1, 2, 1, 1, 1, 0, 0, 2, 0, 2, 1, 0, 0, 2, 0, 2, 0, 2, 0, 0, 0, 2, 2, 0, 0, 0, 0, 0, 1, 0, 2, 2, 2, 0, 0, 0, 2, 0, 0, 0, 0, 2, 0, 2, 2, 1, 0, 2, 0, 2, 1, 0, 0, 0, 2, 2, 0, 2, 2, 2, 2, 2, 0, 2, 0, 0, 2, 2, 1, 0, 2, 0, 0, 2, 0, 2, 0, 2, 0, 0, 0, 0, 0, 0, 1, 2, 2, 1, 1, 0, 2, 1, 1, 1, 1, 1, 1, 1, 2, 1, 1, 1, 0, 0, 2, 0, 2, 0, 1, 1, 2, 0, 2, 2, 0, 2, 0, 2, 0, 2, 0, 2, 2, 2, 0, 0, 0, 2, 0, 2, 0, 2, 1, 1, 1, 2, 0, 0, 2, 0, 0, 0, 0, 0, 0, 0, 0, 0, 2, 2, 2, 1, 1, 1, 1, 0, 1, 2, 2, 0, 0, 1, 0, 2, 0, 0, 0, 0, 2, 0, 2, 2, 2, 1, 0, 2, 0, 2, 2, 2, 0, 0, 2, 2, 0, 0, 2, 2, 2, 2, 2, 2, 2, 2, 1, 2, 1, 1, 1, 1, 1, 1, 1, 1, 1, 0, 2, 2, 1, 1, 1, 2, 1, 2, 2, 2, 2, 2, 1, 0, 0, 0, 2, 2, 2, 0, 2, 0, 0, 2, 0, 0, 0, 0, 2, 2, 0, 0, 0, 0, 2, 1, 1, 0, 1, 2, 0, 2, 0, 2, 2, 2, 0, 0, 2, 0, 0, 0, 0, 0, 0, 2, 0, 0, 1, 0, 0, 2, 2, 2, 1, 0, 2, 1, 1, 1, 2, 1, 1, 0, 1, 1, 2, 0, 2, 2, 0, 0, 0, 1, 1, 0, 2, 1, 2, 0, 0, 2, 1, 2, 2, 2, 2, 2, 2, 1, 1, 2, 1, 1, 1, 1, 1, 1, 1, 1, 1, 1, 1, 2, 2, 2, 0, 0, 1, 1, 1, 1, 0, 0, 1, 0, 2, 0, 0, 2, 2, 2, 0, 0, 2, 0, 2, 2, 2, 0, 2, 0, 0, 0, 0, 2, 2, 2, 0, 0, 0, 2, 0, 0, 0, 0, 2, 0, 1, 1, 2, 2, 2, 0, 0, 0, 2, 2, 2, 0, 0, 0, 2, 0, 0, 0, 0, 1, 2, 0, 0, 2, 0, 2, 0, 2, 0, 2, 2, 0, 1, 2, 2, 1, 2, 1, 1, 1, 1, 1, 1, 1, 1, 2, 1, 1, 2, 2, 0, 0, 0, 2, 0, 2, 0, 1, 2, 2, 2, 1, 2, 2, 0, 0, 0, 0, 0, 2, 0, 0, 2, 0, 2, 2, 1, 2, 1, 1, 2, 2, 2, 2, 2, 2, 0, 0, 2, 0, 2, 2, 0, 0, 0, 1, 1, 2, 2, 1, 2, 2, 2, 2, 2, 0, 0, 0, 2, 2, 2, 2, 2, 0, 0, 2, 0, 2, 2, 0, 2, 2, 2, 2, 0, 0, 2, 2, 2, 1, 2, 1, 1, 1, 1, 1, 2, 2, 0, 0, 0, 2, 2, 0, 0, 0, 2, 0, 2, 0, 0, 0, 0, 0, 0, 2, 2, 0, 1, 1, 2, 2, 0, 2, 0, 0, 1, 0, 1, 0, 1, 1, 2, 2, 0, 2, 0, 2, 0, 1, 2, 1, 0, 2, 2, 0, 2, 0, 0, 1, 0, 0, 2, 2, 2, 2, 1, 1, 2, 1, 2, 1, 1, 2, 2, 2, 0, 1, 0, 2, 1, 0, 0, 2, 2, 1, 0, 2, 0, 0, 0, 1, 2, 0, 1, 0, 0, 0, 2, 0, 2, 0, 2, 2, 0, 0, 0, 2, 0, 2, 0, 0, 2, 2, 2, 0, 0, 0, 1, 2, 2, 1, 2, 1, 1, 2, 1, 1, 2, 1, 2, 0, 1, 2, 1, 0, 2, 1, 2, 2, 2, 2, 0, 2, 1, 2, 2, 0, 2, 2, 2, 2, 2, 0, 0, 1, 2, 0, 2, 0, 0, 2, 0, 2, 0, 0, 0, 0, 2, 0, 1, 2, 0, 2, 2, 0, 2, 0, 2, 0, 2, 2, 2, 0, 2, 2, 0, 1, 0, 2, 0, 0, 2, 2, 2, 1, 1, 1, 2, 1, 0, 0, 0, 2, 1, 0, 0, 0, 2, 0, 0, 2, 2, 2, 0, 1, 0, 0, 0, 1, 2, 1, 1, 1, 2, 2, 1, 2, 1, 2, 2, 0, 0, 0, 0, 2, 2, 1, 0, 0, 0, 0, 0, 2, 0, 0, 0, 2, 2, 2, 0, 2, 0, 2, 1, 1, 1, 1, 0, 1, 1, 1, 1, 1, 0, 0, 2, 0, 0, 0, 0, 0, 0, 1, 0, 2, 0, 2, 0, 2, 0, 1, 1, 1, 2, 1, 2, 0, 0, 0, 0, 0, 2, 0, 2, 2, 0, 0, 2, 0, 1, 1, 1, 2, 1, 2, 2, 1, 1, 2, 0, 1, 2, 0, 2, 2, 2, 2, 0, 2, 0, 2, 0, 2, 0, 0, 0, 2, 2, 0, 2, 2, 1, 2, 1, 1, 1, 1, 1, 2, 1, 2, 2, 2, 1, 1, 0, 1, 2, 0, 2, 0, 2, 0, 2, 0, 2, 2, 2, 0, 0, 0, 0, 0, 2, 0, 0, 0, 2, 0, 2, 1, 1, 1, 0, 0, 2, 0, 2, 2, 2, 2, 0, 2, 0, 2, 2, 0, 2, 0, 1, 0, 1, 2, 2, 0, 1, 2, 0, 0, 0, 1, 0, 2, 2, 0, 0, 2, 1, 1, 1, 1, 2, 0, 1, 2, 0, 1, 2, 0, 0, 0, 0, 0, 0, 2, 2, 2, 1, 0, 0, 0, 1, 0, 0, 2, 2, 0, 2, 0, 0, 0, 1, 2, 1, 0, 0, 0, 2, 2, 2, 0, 2, 0, 0, 2, 2, 2, 2, 2, 2, 2, 0, 2, 0, 2, 0, 2, 0, 0, 0, 0, 2, 2, 1, 1, 2, 2, 0, 0, 2, 0, 0, 1, 2, 2, 2, 2, 1, 1, 2, 0, 2, 1, 2, 2, 2, 1, 1, 0, 2, 0, 0, 0, 2, 0, 2, 0, 2, 0, 0, 2, 0, 0, 2, 0, 0, 2, 1, 0, 2, 2, 0, 0, 0, 2, 2, 2, 2, 2, 2, 2, 2, 2, 0, 2, 0, 2, 0, 2, 2, 2, 0, 0, 2, 2, 1, 1, 2, 1, 1, 1, 1, 2, 1, 2, 0, 2, 2, 2, 2, 2, 2, 1, 2, 2, 0, 0, 0, 0, 2, 1, 0, 1, 1, 2, 2, 2, 0, 0, 0, 1, 2, 2, 0, 2, 0, 0, 0, 0, 0, 1, 1, 1, 1, 2, 1, 1, 2, 1, 0, 0, 2, 1, 1, 2, 0, 2, 2, 2, 0, 2, 0, 1, 2, 2, 2, 0, 2, 0, 2, 0, 0, 0, 2, 2, 2, 0, 0, 1, 1, 2, 1, 1, 1, 1, 1, 2, 1, 2, 2, 2, 0, 2, 2, 0, 2, 2, 1, 2, 0, 2, 1, 2, 0, 0, 0, 2, 0, 2, 0, 2, 1, 2, 2, 0, 2, 0, 2, 2, 2, 1, 1, 0, 1, 0, 1, 1, 1, 2, 0, 0, 0, 0, 2, 1, 2, 2, 2, 2, 2, 0, 2, 2, 0, 0, 1, 1, 2, 2, 0, 0, 2, 0, 0, 2, 2, 2, 0, 2, 2, 2, 2, 0, 0, 2, 1, 0, 1, 2, 1, 2, 2, 0, 0, 2, 0, 0, 2, 2, 2, 0, 0, 2, 0, 0, 1, 0, 0, 2, 0, 2, 2, 0, 2, 0, 0, 2, 2, 1, 2, 1, 1, 2, 2, 2, 2, 2, 2, 2, 2, 0, 2, 0, 0, 2, 0, 0, 2, 0, 0, 2, 2, 0, 2, 0, 2, 2, 0, 0, 0, 0, 2, 0, 2, 2, 0, 0, 0, 0, 0, 0, 2, 2, 2, 0, 2, 2, 2, 0, 0, 0, 0, 0, 2, 0, 0, 2, 1, 0, 0, 0, 2, 2, 2, 2, 2, 0, 1, 0, 2, 0, 2, 0, 2, 0, 1, 0, 1, 1, 1, 1, 1, 0, 1, 1, 1, 2, 2, 1, 2, 1, 0, 0, 2, 2, 2, 0, 2, 0, 2, 0, 0, 0, 0, 0, 0, 2, 0, 0, 0, 2, 2, 2, 0, 0, 0, 0, 2, 2, 2, 2, 0, 0, 2, 2, 0, 2, 0, 0, 0, 0, 2, 2, 0, 0, 2, 0, 1, 0, 0, 2, 0, 0, 0, 0, 0, 2, 2, 2, 2, 2, 2, 0, 0, 0, 2, 2, 2, 2, 0, 0, 0, 2, 1, 0, 0, 2, 2, 0, 2, 2, 0, 0, 0, 0, 0, 0, 0, 2, 2, 0, 2, 0, 2, 0, 0, 2, 2, 2, 0, 2, 1, 2, 0, 2, 2, 2, 2, 0, 0, 0, 2, 2, 2, 0, 2, 2, 2, 0, 0, 2, 1, 2, 0, 2, 2, 2, 0, 2, 0, 2, 0, 0, 0, 2, 0, 0, 2, 2, 2, 2, 1, 2, 2, 0, 2, 0, 2, 0, 0, 2, 2, 0, 0, 2, 0, 2, 2, 2, 2, 1, 2, 1, 1, 2, 1, 1, 2, 2, 1, 1, 2, 0, 2, 1, 1, 1, 2, 2, 2, 1, 2, 1, 1, 0, 1, 2, 1, 2, 1, 1, 0, 1, 2, 2, 2, 1, 1, 1, 2, 1, 1, 1, 2, 2, 1, 1, 0, 1, 2, 2, 1, 0, 0, 0, 2, 0, 0, 2, 2, 2, 2, 2, 2, 2, 2, 2, 1, 0, 2, 2, 0, 2, 2, 2, 0, 1, 2, 1, 2, 2, 2, 2]\n"
          ],
          "name": "stdout"
        }
      ]
    },
    {
      "cell_type": "code",
      "metadata": {
        "id": "Mt785I-iE2ha",
        "outputId": "d2808d60-f63f-451d-8b87-fedcc5b39449",
        "colab": {
          "base_uri": "https://localhost:8080/",
          "height": 246
        }
      },
      "source": [
        "acc=0\n",
        "x_train, x_test, y_train, y_test = train_test_split(x, res, test_size=0.3)\n",
        "RFclassifier = RandomForestClassifier(n_estimators = 200,random_state=0,warm_start=True)\n",
        "RFclassifier.fit(x_train, y_train)\n",
        "y_pred = RFclassifier.predict(x_test)\n",
        "acc=accuracy_score(y_test,y_pred)\n",
        "print('Classifier Type: Random Forest')\n",
        "print('Classification Report')\n",
        "print(classification_report(y_test, y_pred))\n",
        "print('Accuracy: ',acc)\n",
        "import pickle\n",
        "filename = 'RFdiabetes.pkl'\n",
        "pickle.dump(RFclassifier, open(filename, 'wb'))"
      ],
      "execution_count": 86,
      "outputs": [
        {
          "output_type": "stream",
          "text": [
            "Classifier Type: Random Forest\n",
            "Classification Report\n",
            "              precision    recall  f1-score   support\n",
            "\n",
            "           0       0.99      0.99      0.99       957\n",
            "           1       0.98      0.98      0.98       180\n",
            "           2       0.98      0.96      0.97       425\n",
            "\n",
            "    accuracy                           0.99      1562\n",
            "   macro avg       0.98      0.98      0.98      1562\n",
            "weighted avg       0.99      0.99      0.99      1562\n",
            "\n",
            "Accuracy:  0.9852752880921894\n"
          ],
          "name": "stdout"
        }
      ]
    },
    {
      "cell_type": "code",
      "metadata": {
        "id": "ol2vAKsLGVT6",
        "outputId": "dc7ccd9b-fae8-4dd9-f743-aaf3eff436ca",
        "colab": {
          "base_uri": "https://localhost:8080/",
          "height": 193
        }
      },
      "source": [
        "x_train, x_test, y_train, y_test = train_test_split(x, res, test_size=0.2)\n",
        "lgb_clf = lgb.LGBMClassifier(random_state=0, silent=True, metric='None', n_jobs=4)\n",
        "lgb_clf.fit(x_train,y_train)\n",
        "y_pred = lgb_clf.predict(x_test)\n",
        "print(classification_report(y_test, y_pred))\n",
        "pickle.dump(lgb_clf, open('lgbClassifierDiabetes.pkl', 'wb'))\n"
      ],
      "execution_count": 64,
      "outputs": [
        {
          "output_type": "stream",
          "text": [
            "              precision    recall  f1-score   support\n",
            "\n",
            "           0       0.99      0.99      0.99       642\n",
            "           1       0.97      0.97      0.97       117\n",
            "           2       0.96      0.98      0.97       283\n",
            "\n",
            "    accuracy                           0.98      1042\n",
            "   macro avg       0.98      0.98      0.98      1042\n",
            "weighted avg       0.98      0.98      0.98      1042\n",
            "\n"
          ],
          "name": "stdout"
        }
      ]
    },
    {
      "cell_type": "code",
      "metadata": {
        "id": "4TQLz0YjGqrn"
      },
      "source": [
        "#SVM =70%\n",
        "#LOGISTIC =68%\n",
        "#DecisionTree =97%"
      ],
      "execution_count": 63,
      "outputs": []
    }
  ]
}